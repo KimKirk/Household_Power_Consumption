{
 "cells": [
  {
   "cell_type": "markdown",
   "metadata": {},
   "source": [
    "# Individual Household Power Consumption"
   ]
  },
  {
   "cell_type": "markdown",
   "metadata": {},
   "source": [
    "#### Exploratory data analysis is conducted using UC Irvine Machine Learning Repository \"Individual Household Power Consumption\" data set to examine how household energy usage varies over a 5-day period in February 2007. The data set has measurements of electric power consumptions in one household with a one-minute sampling rate over a period of almost 4 years. Different electrical quantitites and some sub-metering values are included. "
   ]
  },
  {
   "cell_type": "markdown",
   "metadata": {},
   "source": [
    "Let's import the data, tidy it up, and create a simple histogram to quickly see what the data look like over a 5-day period. \n",
    "\n",
    "Set the file path to save the download to which is the user's current working directory."
   ]
  },
  {
   "cell_type": "code",
   "execution_count": 2,
   "metadata": {},
   "outputs": [],
   "source": [
    "path <- file.path(paste(getwd(), 'exdata%2Fdata%2Fhousehold_power_consumption.zip', sep = \"/\"))\n"
   ]
  },
  {
   "cell_type": "markdown",
   "metadata": {},
   "source": [
    "Set the URL for the download to obtain the UC Irvine Machine Learning Repository \"Individual Household Power Consumption\" data set,"
   ]
  },
  {
   "cell_type": "code",
   "execution_count": 3,
   "metadata": {},
   "outputs": [],
   "source": [
    "url <- \"https://d396qusza40orc.cloudfront.net/exdata%2Fdata%2Fhousehold_power_consumption.zip\";\n"
   ]
  },
  {
   "cell_type": "markdown",
   "metadata": {},
   "source": [
    "Download the data set and save to the working directory we denoted in the \"path\" variable."
   ]
  },
  {
   "cell_type": "code",
   "execution_count": 4,
   "metadata": {},
   "outputs": [],
   "source": [
    "download.file(url, path)"
   ]
  },
  {
   "cell_type": "markdown",
   "metadata": {},
   "source": [
    "The data set is in a zipped file. Let's allow the user to choose the correct file, then unzip the file and put it in the user's current working directory."
   ]
  },
  {
   "cell_type": "code",
   "execution_count": 5,
   "metadata": {},
   "outputs": [],
   "source": [
    "chooseFile<-file.choose()\n",
    "workingDir<-getwd()\n",
    "unzip(chooseFile,exdir = workingDir)"
   ]
  },
  {
   "cell_type": "markdown",
   "metadata": {},
   "source": [
    "Import the data for February 1 2007 to February 5 2007."
   ]
  },
  {
   "cell_type": "code",
   "execution_count": 6,
   "metadata": {},
   "outputs": [],
   "source": [
    "imported_hpc <- read.table(\"household_power_consumption.txt\", header = FALSE, nrows = 7200, skip = 66637 , sep = \";\", \n",
    "    na.strings = c(\" \", \"NA\", \"?\"), stringsAsFactors = FALSE, \n",
    "    strip.white = TRUE, col.names = c(\"Date\", \"Time\", \"Global_active_power\", \n",
    "        \"Global_reactive_power\", \"Voltage\", \"Global_intensity\", \"Sub_metering_1\", \"Sub_metering_2\", \"Sub_metering_3\"), \n",
    "    colClasses = c(\"character\", \"character\", \"numeric\", \"numeric\", \"numeric\",\"numeric\",\"numeric\",\"numeric\",\"numeric\"))"
   ]
  },
  {
   "cell_type": "markdown",
   "metadata": {},
   "source": [
    "We need to check the environment for required packages. Credit Matthew on StackOverflow https://stackoverflow.com/users/4125693/matthew for this code block."
   ]
  },
  {
   "cell_type": "code",
   "execution_count": 7,
   "metadata": {},
   "outputs": [],
   "source": [
    "using <- function(...) {\n",
    "    libs <- unlist(list(...))\n",
    "    req <- unlist(lapply(libs, require, character.only=TRUE))\n",
    "    need <- libs[req==FALSE]\n",
    "    n <- length(need)\n",
    "    if(n > 0) {\n",
    "        libsmsg <- if (n > 2) {paste(paste(need[1:(n-1)],collapse=\", \"), \",\" , sep=\"\")}\n",
    "                   else need[1]\n",
    "        print(libsmsg)\n",
    "        if (n > 1) {\n",
    "            libsmsg <- paste(libsmsg, \" and \" , need[n], sep=\"\")}\n",
    "        libsmsg <- paste(\"The following packages could not be found: \", libsmsg, \"\\n\\r\\n\\rInstall missing packages?\", collapse=\"\")\n",
    "        if(winDialog(type = c(\"yesno\"), libsmsg) == \"YES\") {\n",
    "            install.packages(need) \n",
    "            lapply(need,require,character.only=TRUE)}\n",
    "    }\n",
    "}"
   ]
  },
  {
   "cell_type": "markdown",
   "metadata": {},
   "source": [
    "Now we use our method to check for the required packages \"tidyr\" and \"lubridate\"."
   ]
  },
  {
   "cell_type": "code",
   "execution_count": 8,
   "metadata": {},
   "outputs": [
    {
     "name": "stderr",
     "output_type": "stream",
     "text": [
      "Loading required package: tidyr\n",
      "Loading required package: lubridate\n",
      "\n",
      "Attaching package: 'lubridate'\n",
      "\n",
      "The following object is masked from 'package:base':\n",
      "\n",
      "    date\n",
      "\n"
     ]
    }
   ],
   "source": [
    "using(\"tidyr\")\n",
    "using(\"lubridate\")"
   ]
  },
  {
   "cell_type": "markdown",
   "metadata": {},
   "source": [
    "We combine the Date and Time variable columns together for tidier data."
   ]
  },
  {
   "cell_type": "code",
   "execution_count": 9,
   "metadata": {},
   "outputs": [],
   "source": [
    "imported_hpc <- unite(imported_hpc, \"DateTime\", c(\"Date\", \"Time\"), sep = \" \")\n"
   ]
  },
  {
   "cell_type": "markdown",
   "metadata": {},
   "source": [
    "Let's convert the new column we made into a Date/Time class for easier plotting."
   ]
  },
  {
   "cell_type": "code",
   "execution_count": 10,
   "metadata": {},
   "outputs": [],
   "source": [
    "imported_hpc[ ,1] <- dmy_hms(imported_hpc[ ,1])"
   ]
  },
  {
   "cell_type": "markdown",
   "metadata": {},
   "source": [
    "Plotting the data set for Global Active Power which is household global minute-averaged active power in kilowatts. This is the power which is actually consumed or utilized in an AC Circuit. <cite>[1]</cite>\n",
    "\n",
    "[1]:https://en.wikipedia.org/wiki/AC_power"
   ]
  },
  {
   "cell_type": "code",
   "execution_count": 11,
   "metadata": {},
   "outputs": [
    {
     "data": {
      "image/png": "[encoded data removed]",
      "text/plain": [
       "Plot with title \"Global Active Power (February 1 2007 to February 5 2007)\""
      ]
     },
     "metadata": {},
     "output_type": "display_data"
    }
   ],
   "source": [
    "par(font.main = 2) \n",
    "hist(imported_hpc$Global_active_power, breaks = 20, freq = TRUE, \n",
    "    plot = TRUE, col = \"green\", main = \"Global Active Power (February 1 2007 to February 5 2007)\", xlab = \"Global Active Power (kilowatts)\", ylab = \"Frequency\") \n"
   ]
  },
  {
   "cell_type": "markdown",
   "metadata": {},
   "source": [
    "The data is right skewed with a higher frequency of Global Active Power consumption in the 0 to 0.5 kilowatts range for this household over the February 1st to February 5 time period."
   ]
  },
  {
   "cell_type": "code",
   "execution_count": null,
   "metadata": {},
   "outputs": [],
   "source": []
  }
 ],
 "metadata": {
  "kernelspec": {
   "display_name": "R",
   "language": "R",
   "name": "ir"
  },
  "language_info": {
   "codemirror_mode": "r",
   "file_extension": ".r",
   "mimetype": "text/x-r-source",
   "name": "R",
   "pygments_lexer": "r",
   "version": "3.4.2"
  }
 },
 "nbformat": 4,
 "nbformat_minor": 2
}
